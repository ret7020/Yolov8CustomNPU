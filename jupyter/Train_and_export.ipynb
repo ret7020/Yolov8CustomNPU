{
  "nbformat": 4,
  "nbformat_minor": 0,
  "metadata": {
    "colab": {
      "provenance": [],
      "gpuType": "T4",
      "collapsed_sections": [
        "Wf5VpTXNL-MN",
        "F8ZPimgyMmhK",
        "mA5BKR471gSp"
      ]
    },
    "kernelspec": {
      "name": "python3",
      "display_name": "Python 3"
    },
    "language_info": {
      "name": "python"
    },
    "accelerator": "GPU"
  },
  "cells": [
    {
      "cell_type": "markdown",
      "source": [
        "# Данный нотбук делает следующее:\n",
        "\n",
        "*   Обучение Yolov5 на кастомном датасете с гугл диска/robflow\n",
        "*   Экспорт модели в кастомный ONNX через репозиторий yolov5 от RKNN\n",
        "*   Конвертация ONNX модели в RKNN\n",
        "\n"
      ],
      "metadata": {
        "id": "JHDu9SeYKHPH"
      }
    },
    {
      "cell_type": "markdown",
      "source": [
        "### Настройка окружений"
      ],
      "metadata": {
        "id": "Wf5VpTXNL-MN"
      }
    },
    {
      "cell_type": "code",
      "source": [
        "!apt install python3.10-venv"
      ],
      "metadata": {
        "id": "_x0rAWUoL0Tr"
      },
      "execution_count": null,
      "outputs": []
    },
    {
      "cell_type": "code",
      "source": [
        "!pip3 install ultralytics -U"
      ],
      "metadata": {
        "id": "BI1TrkAXfG_s"
      },
      "execution_count": null,
      "outputs": []
    },
    {
      "cell_type": "markdown",
      "source": [
        "### Копирование датасета с гугл диска"
      ],
      "metadata": {
        "id": "F8ZPimgyMmhK"
      }
    },
    {
      "cell_type": "code",
      "source": [
        "from google.colab import drive\n",
        "drive.mount('/content/drive/')"
      ],
      "metadata": {
        "colab": {
          "base_uri": "https://localhost:8080/"
        },
        "id": "cHAtQr1yMQk3",
        "outputId": "1b4619d6-c625-4069-c804-c0ac8310e7e1"
      },
      "execution_count": 3,
      "outputs": [
        {
          "output_type": "stream",
          "name": "stdout",
          "text": [
            "Mounted at /content/drive/\n"
          ]
        }
      ]
    },
    {
      "cell_type": "code",
      "source": [
        "%cd /content\n",
        "!cp /content/drive/MyDrive/NozzleData/nozzle_v.0.2.1.zip .\n",
        "!unzip nozzle_v.0.2.1.zip -d nozzle_data"
      ],
      "metadata": {
        "id": "t1gZdEeENZMp"
      },
      "execution_count": null,
      "outputs": []
    },
    {
      "cell_type": "code",
      "source": [
        "!rm nozzle_v.0.2.1.zip"
      ],
      "metadata": {
        "id": "3NUrNiaSXpTt"
      },
      "execution_count": 5,
      "outputs": []
    },
    {
      "cell_type": "markdown",
      "source": [
        "**В data.yaml указать абсолютные пути к директориям с картинками**"
      ],
      "metadata": {
        "id": "moxnv0qYYKV3"
      }
    },
    {
      "cell_type": "code",
      "source": [
        "%cd /content"
      ],
      "metadata": {
        "colab": {
          "base_uri": "https://localhost:8080/"
        },
        "id": "v0XcCNXfudMT",
        "outputId": "5ab7fb13-dbc1-4e79-b0fa-0cc47e684f79"
      },
      "execution_count": 6,
      "outputs": [
        {
          "output_type": "stream",
          "name": "stdout",
          "text": [
            "/content\n"
          ]
        }
      ]
    },
    {
      "cell_type": "code",
      "source": [
        "import os\n",
        "os.environ['WANDB_MODE'] = 'disabled'"
      ],
      "metadata": {
        "id": "qNhvry5bfyTD"
      },
      "execution_count": 7,
      "outputs": []
    },
    {
      "cell_type": "markdown",
      "source": [
        "### Обучение"
      ],
      "metadata": {
        "id": "mA5BKR471gSp"
      }
    },
    {
      "cell_type": "code",
      "source": [
        "from ultralytics import YOLO\n",
        "\n",
        "\n",
        "model = YOLO('yolov8n.pt')\n",
        "model.train(data='/content/nozzle_data/data.yaml', epochs=25, device=0, batch=128, imgsz=640, augment=False)"
      ],
      "metadata": {
        "id": "27w5t8HHuhwH"
      },
      "execution_count": null,
      "outputs": []
    },
    {
      "cell_type": "markdown",
      "source": [
        "### Копирование результатов на гугл диск"
      ],
      "metadata": {
        "id": "heHXrDPc1Ffo"
      }
    },
    {
      "cell_type": "code",
      "source": [
        "import locale\n",
        "locale.getpreferredencoding = lambda: \"UTF-8\""
      ],
      "metadata": {
        "id": "yAekJZod04aI"
      },
      "execution_count": 4,
      "outputs": []
    },
    {
      "cell_type": "code",
      "source": [
        "!cp -r /content/runs/detect/train /content/drive/MyDrive"
      ],
      "metadata": {
        "id": "mOeipGBdysUB"
      },
      "execution_count": 14,
      "outputs": []
    },
    {
      "cell_type": "markdown",
      "source": [
        "### Конвертация в ONNX"
      ],
      "metadata": {
        "id": "XbqGU_y-4u2e"
      }
    },
    {
      "cell_type": "markdown",
      "source": [
        "#### Установка"
      ],
      "metadata": {
        "id": "t8jMQ-Tk5C0m"
      }
    },
    {
      "cell_type": "code",
      "source": [
        "!git clone https://github.com/airockchip/ultralytics_yolov8\n",
        "%cd ultralytics_yolov8\n",
        "!python3 -m venv env\n",
        "!source env/bin/activate\n",
        "!pip3 uninstall ultralytics -y"
      ],
      "metadata": {
        "id": "lz1AX8HA4x8M"
      },
      "execution_count": null,
      "outputs": []
    },
    {
      "cell_type": "code",
      "source": [
        "!pip3 install onnx onnxruntime"
      ],
      "metadata": {
        "id": "bxkzCU1V9tJn"
      },
      "execution_count": null,
      "outputs": []
    },
    {
      "cell_type": "markdown",
      "source": [
        "#### Экспорт"
      ],
      "metadata": {
        "id": "HoIv5LdC8R3b"
      }
    },
    {
      "cell_type": "code",
      "source": [
        "!PYTHONPATH=./ python ./ultralytics/engine/exporter.py"
      ],
      "metadata": {
        "id": "OGZAvOYS8NYq"
      },
      "execution_count": null,
      "outputs": []
    },
    {
      "cell_type": "code",
      "source": [
        "!cp /content/runs/detect/train/weights/best.onnx /content/drive/MyDrive"
      ],
      "metadata": {
        "id": "QQmsctjZ98XY"
      },
      "execution_count": 48,
      "outputs": []
    },
    {
      "cell_type": "markdown",
      "source": [
        "### Экспорт в RKNN"
      ],
      "metadata": {
        "id": "reONdmWMFNfx"
      }
    },
    {
      "cell_type": "markdown",
      "source": [
        "#### Установка"
      ],
      "metadata": {
        "id": "aVOEIsaeFVgq"
      }
    },
    {
      "cell_type": "code",
      "source": [
        "%cd /content\n",
        "!python3 -m venv env\n",
        "!source env/bin/activate\n",
        "!wget https://raw.githubusercontent.com/airockchip/rknn-toolkit2/refs/heads/master/rknn-toolkit2/packages/rknn_toolkit2-2.2.0-cp310-cp310-manylinux_2_17_x86_64.manylinux2014_x86_64.whl\n",
        "!pip3 install rknn_toolkit2-2.2.0-cp310-cp310-manylinux_2_17_x86_64.manylinux2014_x86_64.whl"
      ],
      "metadata": {
        "id": "JkLbmNkvFU-O"
      },
      "execution_count": null,
      "outputs": []
    },
    {
      "cell_type": "code",
      "source": [
        "import rknn"
      ],
      "metadata": {
        "id": "EwSRCO5dFRZc"
      },
      "execution_count": 7,
      "outputs": []
    },
    {
      "cell_type": "code",
      "source": [
        "!git clone https://github.com/airockchip/rknn_model_zoo\n",
        "%cd rknn_model_zoo/examples/yolov8"
      ],
      "metadata": {
        "id": "UaatTgBLHJk5"
      },
      "execution_count": null,
      "outputs": []
    },
    {
      "cell_type": "code",
      "source": [
        "import os\n",
        "\n",
        "IMG_PATH = \"/content/nozzle_data/train/images\"\n",
        "files = os.listdir(IMG_PATH)\n",
        "\n",
        "with open(\"/content/data_subset.txt\", \"w\") as fd:\n",
        "  for i in files:\n",
        "    print(os.path.join(IMG_PATH, i), file=fd)"
      ],
      "metadata": {
        "id": "Q9-ZMkCRIeJ2"
      },
      "execution_count": 14,
      "outputs": []
    },
    {
      "cell_type": "code",
      "source": [
        "%cd python"
      ],
      "metadata": {
        "colab": {
          "base_uri": "https://localhost:8080/"
        },
        "id": "m5M-4GNTJUFZ",
        "outputId": "2ff9c3ea-6a7d-427f-a046-19e0592a7c6a"
      },
      "execution_count": 16,
      "outputs": [
        {
          "output_type": "stream",
          "name": "stdout",
          "text": [
            "/content/rknn_model_zoo/examples/yolov8/python\n"
          ]
        }
      ]
    },
    {
      "cell_type": "code",
      "source": [
        "!python3 convert.py /content/runs/detect/train/weights/best.onnx rv1103 i8"
      ],
      "metadata": {
        "colab": {
          "base_uri": "https://localhost:8080/"
        },
        "id": "9oxWHTKLLV3L",
        "outputId": "147692da-c917-49ed-a77c-2379315fafff"
      },
      "execution_count": null,
      "outputs": [
        {
          "output_type": "stream",
          "name": "stdout",
          "text": [
            "I rknn-toolkit2 version: 2.2.0\n",
            "--> Config model\n",
            "done\n",
            "--> Loading model\n",
            "I Loading : 100%|██████████████████████████████████████████████| 126/126 [00:00<00:00, 26871.53it/s]\n",
            "done\n",
            "--> Building model\n",
            "I OpFusing 0: 100%|██████████████████████████████████████████████| 100/100 [00:00<00:00, 515.21it/s]\n",
            "I OpFusing 1 : 100%|█████████████████████████████████████████████| 100/100 [00:00<00:00, 223.79it/s]\n",
            "I OpFusing 0 : 100%|█████████████████████████████████████████████| 100/100 [00:00<00:00, 131.54it/s]\n",
            "I OpFusing 1 : 100%|█████████████████████████████████████████████| 100/100 [00:00<00:00, 121.50it/s]\n",
            "I OpFusing 2 : 100%|█████████████████████████████████████████████| 100/100 [00:00<00:00, 115.73it/s]\n",
            "I OpFusing 0 : 100%|██████████████████████████████████████████████| 100/100 [00:01<00:00, 78.71it/s]\n",
            "I OpFusing 1 : 100%|██████████████████████████████████████████████| 100/100 [00:01<00:00, 74.51it/s]\n",
            "I OpFusing 2 : 100%|██████████████████████████████████████████████| 100/100 [00:01<00:00, 54.99it/s]\n",
            "I GraphPreparing : 100%|████████████████████████████████████████| 161/161 [00:00<00:00, 4297.17it/s]\n",
            "I Quantizating 1/11: 100%|████████████████████████████████████████| 161/161 [00:37<00:00,  4.24it/s]\n",
            "I Quantizating 2/11: 100%|████████████████████████████████████████| 161/161 [00:28<00:00,  5.58it/s]\n",
            "I Quantizating 3/11: 100%|████████████████████████████████████████| 161/161 [00:29<00:00,  5.48it/s]\n",
            "I Quantizating 4/11: 100%|████████████████████████████████████████| 161/161 [00:29<00:00,  5.51it/s]\n",
            "I Quantizating 5/11: 100%|████████████████████████████████████████| 161/161 [00:29<00:00,  5.51it/s]\n",
            "I Quantizating 6/11:  45%|██████████████████▌                      | 73/161 [00:16<00:05, 16.06it/s]"
          ]
        }
      ]
    }
  ]
}