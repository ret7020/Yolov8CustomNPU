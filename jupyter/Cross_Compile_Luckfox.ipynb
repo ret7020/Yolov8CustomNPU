{
  "nbformat": 4,
  "nbformat_minor": 0,
  "metadata": {
    "colab": {
      "provenance": []
    },
    "kernelspec": {
      "name": "python3",
      "display_name": "Python 3"
    },
    "language_info": {
      "name": "python"
    }
  },
  "cells": [
    {
      "cell_type": "markdown",
      "source": [
        "## Скачивание кросс-компилятора"
      ],
      "metadata": {
        "id": "gVIE5m1ITuZ9"
      }
    },
    {
      "cell_type": "code",
      "source": [
        "!git clone https://github.com/LuckfoxTECH/luckfox-pico/"
      ],
      "metadata": {
        "id": "2kMWqu12Trnv"
      },
      "execution_count": null,
      "outputs": []
    },
    {
      "cell_type": "code",
      "source": [
        "%env GCC_COMPILER=/content/luckfox-pico/tools/linux/toolchain/arm-rockchip830-linux-uclibcgnueabihf/bin/arm-rockchip830-linux-uclibcgnueabihf"
      ],
      "metadata": {
        "colab": {
          "base_uri": "https://localhost:8080/"
        },
        "id": "JQSh9QJVT2zy",
        "outputId": "de490ec5-11f5-4fbb-98b2-22f85f765002"
      },
      "execution_count": 5,
      "outputs": [
        {
          "output_type": "stream",
          "name": "stdout",
          "text": [
            "env: GCC_COMPILER=/content/luckfox-pico/tools/linux/toolchain/arm-rockchip830-linux-uclibcgnueabihf/bin/arm-rockchip830-linux-uclibcgnueabihf\n"
          ]
        }
      ]
    },
    {
      "cell_type": "markdown",
      "source": [
        "## Сборка проекта"
      ],
      "metadata": {
        "id": "oMqfsYkdTsL3"
      }
    },
    {
      "cell_type": "code",
      "source": [
        "!echo $GCC_COMPILER"
      ],
      "metadata": {
        "colab": {
          "base_uri": "https://localhost:8080/"
        },
        "id": "09bsGhqiT9NG",
        "outputId": "23725671-c0f0-47d1-a7f8-9bd7c394ccd3"
      },
      "execution_count": 6,
      "outputs": [
        {
          "output_type": "stream",
          "name": "stdout",
          "text": [
            "/content/luckfox-pico/tools/linux/toolchain/arm-rockchip830-linux-uclibcgnueabihf/bin/arm-rockchip830-linux-uclibcgnueabihf\n"
          ]
        }
      ]
    },
    {
      "cell_type": "code",
      "execution_count": 9,
      "metadata": {
        "colab": {
          "base_uri": "https://localhost:8080/"
        },
        "id": "jCefLbadTiok",
        "outputId": "a4143ccf-2367-4a34-b309-72291d423f12"
      },
      "outputs": [
        {
          "output_type": "stream",
          "name": "stdout",
          "text": [
            "/content/Yolov8CustomNPU/Yolov8/cpp\n"
          ]
        }
      ],
      "source": [
        "!git clone https://github.com/ret7020/Yolov8CustomNPU\n",
        "%cd /content/Yolov8CustomNPU/Yolov8/cpp"
      ]
    },
    {
      "cell_type": "code",
      "source": [
        "!mkdir build\n",
        "%cd build"
      ],
      "metadata": {
        "colab": {
          "base_uri": "https://localhost:8080/"
        },
        "id": "tdvirYPbUgpb",
        "outputId": "94f16021-3225-4bb0-8032-9c8a246952d2"
      },
      "execution_count": 14,
      "outputs": [
        {
          "output_type": "stream",
          "name": "stdout",
          "text": [
            "/content/Yolov8CustomNPU/Yolov8/cpp/build\n"
          ]
        }
      ]
    },
    {
      "cell_type": "code",
      "source": [
        "!cmake .."
      ],
      "metadata": {
        "id": "5PybryBBUw76"
      },
      "execution_count": null,
      "outputs": []
    },
    {
      "cell_type": "code",
      "source": [
        "!make install"
      ],
      "metadata": {
        "id": "etdFNlkmU7Gj"
      },
      "execution_count": null,
      "outputs": []
    },
    {
      "cell_type": "code",
      "source": [
        "!zip -r /content/proj ../bin"
      ],
      "metadata": {
        "id": "g-iI_9HxU9tj"
      },
      "execution_count": null,
      "outputs": []
    }
  ]
}